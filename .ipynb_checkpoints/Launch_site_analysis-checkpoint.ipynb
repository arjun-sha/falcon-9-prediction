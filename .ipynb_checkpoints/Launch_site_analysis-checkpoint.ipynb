{
 "cells": [
  {
   "cell_type": "markdown",
   "id": "63665644-0c9e-44a8-b103-cd929cf818df",
   "metadata": {},
   "source": [
    "# **Launch Sites Locations Analysis with Folium**"
   ]
  },
  {
   "cell_type": "markdown",
   "id": "c6da5522-4a06-4f07-a67a-85430283889a",
   "metadata": {},
   "source": [
    "The launch success rate may depend on many factors such as payload mass, orbit type, and so on. It may also depend on the location and proximities of a launch site, i.e., the initial position of rocket trajectories. Finding an optimal location for building a launch site certainly involves many factors and hopefully we could discover some of the factors by analyzing the existing launch site locations.\n"
   ]
  },
  {
   "cell_type": "markdown",
   "id": "a1f297fa-d894-485f-b532-55911f340cac",
   "metadata": {},
   "source": [
    "In the previous exploratory data analysis labs, you have visualized the SpaceX launch dataset using `matplotlib` and `seaborn` and discovered some preliminary correlations between the launch site and success rates. In this lab, you will be performing more interactive visual analytics using `Folium`.\n"
   ]
  },
  {
   "cell_type": "markdown",
   "id": "184fc867-2b90-41e9-9989-0e33039fda9c",
   "metadata": {},
   "source": [
    "## Objectives"
   ]
  },
  {
   "cell_type": "markdown",
   "id": "ca708827-d75a-4d73-9ab6-81b5c226be6c",
   "metadata": {},
   "source": [
    "This lab contains the following tasks:\n",
    "\n",
    "*   **TASK 1:** Mark all launch sites on a map\n",
    "*   **TASK 2:** Mark the success/failed launches for each site on the map\n",
    "*   **TASK 3:** Calculate the distances between a launch site to its proximities\n",
    "\n",
    "After completed the above tasks, you should be able to find some geographical patterns about launch sites."
   ]
  },
  {
   "cell_type": "markdown",
   "id": "6a2fa717-6c91-472b-8dff-ee9583882a10",
   "metadata": {},
   "source": [
    "Let's first import required Python packages for this task:"
   ]
  },
  {
   "cell_type": "code",
   "execution_count": 3,
   "id": "868331c5-b7fe-4c8e-b36f-bb035a3087b9",
   "metadata": {
    "tags": []
   },
   "outputs": [],
   "source": [
    "# !pip install folium"
   ]
  },
  {
   "cell_type": "code",
   "execution_count": 4,
   "id": "c48391c3-b5ec-4cf2-9fa8-eba9ca28790c",
   "metadata": {
    "tags": []
   },
   "outputs": [],
   "source": [
    "import folium\n",
    "import pandas as pd\n",
    "\n",
    "from folium.plugins import MarkerCluster\n",
    "from folium.plugins import MousePosition\n",
    "from folium.features import DivIcon"
   ]
  },
  {
   "cell_type": "markdown",
   "id": "27cad7c0-5c78-438d-85ec-ed66aa0b5cf2",
   "metadata": {},
   "source": [
    "## Task 1: Mark all launch sites on a map"
   ]
  },
  {
   "cell_type": "code",
   "execution_count": null,
   "id": "066fa15a-676f-4f4e-b1b0-405dde9e7b75",
   "metadata": {},
   "outputs": [],
   "source": []
  }
 ],
 "metadata": {
  "kernelspec": {
   "display_name": "Python 3 (ipykernel)",
   "language": "python",
   "name": "python3"
  },
  "language_info": {
   "codemirror_mode": {
    "name": "ipython",
    "version": 3
   },
   "file_extension": ".py",
   "mimetype": "text/x-python",
   "name": "python",
   "nbconvert_exporter": "python",
   "pygments_lexer": "ipython3",
   "version": "3.8.10"
  }
 },
 "nbformat": 4,
 "nbformat_minor": 5
}

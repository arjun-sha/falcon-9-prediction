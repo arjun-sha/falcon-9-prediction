{
 "cells": [
  {
   "cell_type": "markdown",
   "id": "6d4ed580-4d5b-4633-8ff2-05a5d68ec0a4",
   "metadata": {},
   "source": [
    "# **SpaceX  Falcon 9 first stage Landing Prediction**"
   ]
  },
  {
   "cell_type": "markdown",
   "id": "4ffac2f0-8e8c-44d7-9bde-98e2cccb9712",
   "metadata": {},
   "source": [
    "# Task 1: Collecting the data through API"
   ]
  },
  {
   "cell_type": "markdown",
   "id": "fcb0c122-5001-4854-8fc9-626252014ba4",
   "metadata": {
    "tags": []
   },
   "source": [
    "In this project, we will predict if the Falcon 9 first stage will land successfully. SpaceX advertises Falcon 9 rocket launches on its website with a cost of 62 million dollars; other providers cost upward of 165 million dollars each, much of the savings is because SpaceX can reuse the first stage. Therefore if we can determine if the first stage will land, we can determine the cost of a launch. This information can be used if an alternate company wants to bid against SpaceX for a rocket launch. In this project, we will collect and make sure the data is in the correct format from an API.\n"
   ]
  },
  {
   "cell_type": "markdown",
   "id": "26550b1f-af9b-42c7-be7f-80664709baf9",
   "metadata": {
    "tags": []
   },
   "source": [
    "**Successfull landing**\n",
    "\n",
    "![](https://cf-courses-data.s3.us.cloud-object-storage.appdomain.cloud/IBMDeveloperSkillsNetwork-DS0701EN-SkillsNetwork/lab_v2/images/landing_1.gif)"
   ]
  },
  {
   "cell_type": "markdown",
   "id": "ac470bdc-47c2-4dc5-8476-16e145df2be9",
   "metadata": {
    "tags": []
   },
   "source": [
    "**Unsuccessfull landing**\n",
    "\n",
    "![](https://cf-courses-data.s3.us.cloud-object-storage.appdomain.cloud/IBMDeveloperSkillsNetwork-DS0701EN-SkillsNetwork/lab_v2/images/crash.gif)"
   ]
  },
  {
   "cell_type": "markdown",
   "id": "b12797e1-076f-48e5-b090-74c651ecdc49",
   "metadata": {},
   "source": [
    "## Objectives"
   ]
  },
  {
   "cell_type": "markdown",
   "id": "5cc18214-68be-40e2-bd6a-c1a924445273",
   "metadata": {},
   "source": [
    "In this task, we will make a get request to the SpaceX API. we will also do some basic data wrangling and formating. \n",
    "\n",
    "- Request to the SpaceX API\n",
    "- Clean the requested data\n"
   ]
  },
  {
   "cell_type": "code",
   "execution_count": 1,
   "id": "25921b13-479d-4e05-8071-da78bd9f92d7",
   "metadata": {
    "tags": []
   },
   "outputs": [],
   "source": [
    "# Importing necessary libraries\n",
    "import requests\n",
    "import pandas as pd\n",
    "import numpy as np\n",
    "import datetime\n",
    "\n",
    "# Setting the max-columns and max-colwidth to None,\n",
    "# to display the table completly\n",
    "pd.set_option('display.max_columns', None)\n",
    "pd.set_option('display.max_colwidth', None)"
   ]
  },
  {
   "cell_type": "markdown",
   "id": "0b0df9f9-7562-4477-bd40-c57b6b7fe65c",
   "metadata": {},
   "source": [
    "Below we will define a series of helper functions that will help us use the API to extract information using identification numbers in the launch data.\n",
    "\n",
    "From the <code>rocket</code> column we would like to learn the booster name."
   ]
  },
  {
   "cell_type": "code",
   "execution_count": 2,
   "id": "b0acf606-6115-451b-afd1-85558905a63f",
   "metadata": {
    "tags": []
   },
   "outputs": [],
   "source": [
    "# Takes the dataset and uses the rocket column to call the API and append the data to the list\n",
    "def getBoosterVersion(data):\n",
    "    for x in data['rocket']:\n",
    "       if x:\n",
    "        response = requests.get(\"https://api.spacexdata.com/v4/rockets/\"+str(x)).json()\n",
    "        BoosterVersion.append(response['name'])"
   ]
  },
  {
   "cell_type": "code",
   "execution_count": 3,
   "id": "c28686b6-9f36-4179-b68c-9a6715d60d2f",
   "metadata": {
    "tags": []
   },
   "outputs": [],
   "source": [
    "# Takes the dataset and uses the launchpad column to call the API and append the data to the list\n",
    "def getLaunchSite(data):\n",
    "    for x in data['launchpad']:\n",
    "       if x:\n",
    "         response = requests.get(\"https://api.spacexdata.com/v4/launchpads/\"+str(x)).json()\n",
    "         Longitude.append(response['longitude'])\n",
    "         Latitude.append(response['latitude'])\n",
    "         LaunchSite.append(response['name'])"
   ]
  },
  {
   "cell_type": "markdown",
   "id": "2a65d8e1-5167-4860-9f7c-8bcc5b77b54a",
   "metadata": {
    "tags": []
   },
   "source": [
    "From the <code>payload</code> we would like to learn the mass of the payload and the orbit that it is going to."
   ]
  },
  {
   "cell_type": "code",
   "execution_count": 4,
   "id": "7771ff42-aba2-4ed0-8245-c3964b3b6187",
   "metadata": {
    "tags": []
   },
   "outputs": [],
   "source": [
    "# Takes the dataset and uses the payloads column to call the API and append the data to the lists\n",
    "def getPayloadData(data):\n",
    "    for load in data['payloads']:\n",
    "       if load:\n",
    "        response = requests.get(\"https://api.spacexdata.com/v4/payloads/\"+load).json()\n",
    "        PayloadMass.append(response['mass_kg'])\n",
    "        Orbit.append(response['orbit'])"
   ]
  },
  {
   "cell_type": "markdown",
   "id": "82a947f0-0590-41d0-899d-237d0935c7be",
   "metadata": {},
   "source": [
    "From <code>cores</code> we would like to learn the outcome of the landing, the type of the landing, number of flights with that core, whether gridfins were used, wheter the core is reused, wheter legs were used, the landing pad used, the block of the core which is a number used to seperate version of cores, the number of times this specific core has been reused, and the serial of the core.\n"
   ]
  },
  {
   "cell_type": "code",
   "execution_count": 5,
   "id": "52ac4287-ec90-46e6-b11c-424dfc0f278b",
   "metadata": {
    "tags": []
   },
   "outputs": [],
   "source": [
    "# Takes the dataset and uses the cores column to call the API and append the data to the lists\n",
    "def getCoreData(data):\n",
    "    for core in data['cores']:\n",
    "            if core['core'] != None:\n",
    "                response = requests.get(\"https://api.spacexdata.com/v4/cores/\"+core['core']).json()\n",
    "                Block.append(response['block'])\n",
    "                ReusedCount.append(response['reuse_count'])\n",
    "                Serial.append(response['serial'])\n",
    "            else:\n",
    "                Block.append(None)\n",
    "                ReusedCount.append(None)\n",
    "                Serial.append(None)\n",
    "            Outcome.append(str(core['landing_success'])+' '+str(core['landing_type']))\n",
    "            Flights.append(core['flight'])\n",
    "            GridFins.append(core['gridfins'])\n",
    "            Reused.append(core['reused'])\n",
    "            Legs.append(core['legs'])\n",
    "            LandingPad.append(core['landpad'])"
   ]
  },
  {
   "cell_type": "markdown",
   "id": "341830e3-cc94-44bb-9290-d29299eac140",
   "metadata": {},
   "source": [
    "Now let's start requesting rocket launch data from SpaceX API with the following URL:"
   ]
  },
  {
   "cell_type": "code",
   "execution_count": 6,
   "id": "9e1fea78-bbd0-4208-9712-58ee7343e9df",
   "metadata": {
    "tags": []
   },
   "outputs": [],
   "source": [
    "spacex_url=\"https://api.spacexdata.com/v4/launches/past\""
   ]
  },
  {
   "cell_type": "code",
   "execution_count": 7,
   "id": "c24476d1-9b98-4ae8-a37f-2ee171bcd2b8",
   "metadata": {
    "tags": []
   },
   "outputs": [],
   "source": [
    "response = requests.get(spacex_url)"
   ]
  },
  {
   "cell_type": "markdown",
   "id": "f5065c02-3a2e-4076-8a7b-565ed141af0a",
   "metadata": {},
   "source": [
    "Check the content of the response"
   ]
  },
  {
   "cell_type": "code",
   "execution_count": 8,
   "id": "f1eea0f8-27ba-4ecb-bdd3-bc0e243071b2",
   "metadata": {
    "tags": []
   },
   "outputs": [
    {
     "data": {
      "text/plain": [
       "{'fairings': {'reused': False,\n",
       "  'recovery_attempt': False,\n",
       "  'recovered': False,\n",
       "  'ships': []},\n",
       " 'links': {'patch': {'small': 'https://images2.imgbox.com/94/f2/NN6Ph45r_o.png',\n",
       "   'large': 'https://images2.imgbox.com/5b/02/QcxHUb5V_o.png'},\n",
       "  'reddit': {'campaign': None,\n",
       "   'launch': None,\n",
       "   'media': None,\n",
       "   'recovery': None},\n",
       "  'flickr': {'small': [], 'original': []},\n",
       "  'presskit': None,\n",
       "  'webcast': 'https://www.youtube.com/watch?v=0a_00nJ_Y88',\n",
       "  'youtube_id': '0a_00nJ_Y88',\n",
       "  'article': 'https://www.space.com/2196-spacex-inaugural-falcon-1-rocket-lost-launch.html',\n",
       "  'wikipedia': 'https://en.wikipedia.org/wiki/DemoSat'},\n",
       " 'static_fire_date_utc': '2006-03-17T00:00:00.000Z',\n",
       " 'static_fire_date_unix': 1142553600,\n",
       " 'net': False,\n",
       " 'window': 0,\n",
       " 'rocket': '5e9d0d95eda69955f709d1eb',\n",
       " 'success': False,\n",
       " 'failures': [{'time': 33,\n",
       "   'altitude': None,\n",
       "   'reason': 'merlin engine failure'}],\n",
       " 'details': 'Engine failure at 33 seconds and loss of vehicle',\n",
       " 'crew': [],\n",
       " 'ships': [],\n",
       " 'capsules': [],\n",
       " 'payloads': ['5eb0e4b5b6c3bb0006eeb1e1'],\n",
       " 'launchpad': '5e9e4502f5090995de566f86',\n",
       " 'flight_number': 1,\n",
       " 'name': 'FalconSat',\n",
       " 'date_utc': '2006-03-24T22:30:00.000Z',\n",
       " 'date_unix': 1143239400,\n",
       " 'date_local': '2006-03-25T10:30:00+12:00',\n",
       " 'date_precision': 'hour',\n",
       " 'upcoming': False,\n",
       " 'cores': [{'core': '5e9e289df35918033d3b2623',\n",
       "   'flight': 1,\n",
       "   'gridfins': False,\n",
       "   'legs': False,\n",
       "   'reused': False,\n",
       "   'landing_attempt': False,\n",
       "   'landing_success': None,\n",
       "   'landing_type': None,\n",
       "   'landpad': None}],\n",
       " 'auto_update': True,\n",
       " 'tbd': False,\n",
       " 'launch_library_id': None,\n",
       " 'id': '5eb87cd9ffd86e000604b32a'}"
      ]
     },
     "execution_count": 8,
     "metadata": {},
     "output_type": "execute_result"
    }
   ],
   "source": [
    "response.json()[0]"
   ]
  },
  {
   "cell_type": "markdown",
   "id": "63aad28d-a957-4b98-ae3c-1b7c9081eda8",
   "metadata": {},
   "source": [
    "We can see the response contains massive information about SpaceX launches. Next, let's try to discover some more relevant information for this project.\n"
   ]
  },
  {
   "cell_type": "markdown",
   "id": "accda0fa-34ba-445b-bdba-7481eb098bd3",
   "metadata": {
    "tags": []
   },
   "source": [
    "### Task 1: Request and parse the SpaceX launch data using the GET request"
   ]
  },
  {
   "cell_type": "markdown",
   "id": "6a5e41b4-8634-49da-a924-37eb9a51f61d",
   "metadata": {},
   "source": [
    "To make the requested JSON results more consistent, we will use the following static response object for this project:"
   ]
  },
  {
   "cell_type": "code",
   "execution_count": 9,
   "id": "b61c8add-a4c0-4515-a221-646414e34635",
   "metadata": {
    "tags": []
   },
   "outputs": [],
   "source": [
    "# static_json_url='https://cf-courses-data.s3.us.cloud-object-storage.appdomain.cloud/IBM-DS0321EN-SkillsNetwork/datasets/API_call_spacex_api.json'"
   ]
  },
  {
   "cell_type": "markdown",
   "id": "3e5997ba-2bc6-402b-a5e4-021e41397b15",
   "metadata": {},
   "source": [
    "We should see that the request was successfull with the 200 status response code"
   ]
  },
  {
   "cell_type": "code",
   "execution_count": 10,
   "id": "52e4907f-cd72-4b4e-b954-3ac7c368a9b4",
   "metadata": {
    "tags": []
   },
   "outputs": [
    {
     "data": {
      "text/plain": [
       "200"
      ]
     },
     "execution_count": 10,
     "metadata": {},
     "output_type": "execute_result"
    }
   ],
   "source": [
    "response.status_code"
   ]
  },
  {
   "cell_type": "markdown",
   "id": "197f2460-0e56-461d-bbd7-06db3d877a4f",
   "metadata": {},
   "source": [
    "Now we decode the response content as a Json using <code>.json()</code> and turn it into a Pandas dataframe using <code>.json_normalize()</code>\n"
   ]
  },
  {
   "cell_type": "code",
   "execution_count": 11,
   "id": "d4cb9bee-c44b-473f-9015-b6067bb0ba11",
   "metadata": {
    "tags": []
   },
   "outputs": [],
   "source": [
    "# Use json_normalize meethod to convert the json result into a dataframe\n",
    "data = pd.json_normalize(response.json())"
   ]
  },
  {
   "cell_type": "markdown",
   "id": "316f0178-b2ff-4c2a-a356-2ac9228ed4e7",
   "metadata": {},
   "source": [
    "Using the dataframe <code>data</code> print the first 5 rows\n"
   ]
  },
  {
   "cell_type": "code",
   "execution_count": 12,
   "id": "97635217-f359-40a1-ae53-4dc5b77f165d",
   "metadata": {
    "tags": []
   },
   "outputs": [
    {
     "data": {
      "text/html": [
       "<div>\n",
       "<style scoped>\n",
       "    .dataframe tbody tr th:only-of-type {\n",
       "        vertical-align: middle;\n",
       "    }\n",
       "\n",
       "    .dataframe tbody tr th {\n",
       "        vertical-align: top;\n",
       "    }\n",
       "\n",
       "    .dataframe thead th {\n",
       "        text-align: right;\n",
       "    }\n",
       "</style>\n",
       "<table border=\"1\" class=\"dataframe\">\n",
       "  <thead>\n",
       "    <tr style=\"text-align: right;\">\n",
       "      <th></th>\n",
       "      <th>static_fire_date_utc</th>\n",
       "      <th>static_fire_date_unix</th>\n",
       "      <th>net</th>\n",
       "      <th>window</th>\n",
       "      <th>rocket</th>\n",
       "      <th>success</th>\n",
       "      <th>failures</th>\n",
       "      <th>details</th>\n",
       "      <th>crew</th>\n",
       "      <th>ships</th>\n",
       "      <th>capsules</th>\n",
       "      <th>payloads</th>\n",
       "      <th>launchpad</th>\n",
       "      <th>flight_number</th>\n",
       "      <th>name</th>\n",
       "      <th>date_utc</th>\n",
       "      <th>date_unix</th>\n",
       "      <th>date_local</th>\n",
       "      <th>date_precision</th>\n",
       "      <th>upcoming</th>\n",
       "      <th>cores</th>\n",
       "      <th>auto_update</th>\n",
       "      <th>tbd</th>\n",
       "      <th>launch_library_id</th>\n",
       "      <th>id</th>\n",
       "      <th>fairings.reused</th>\n",
       "      <th>fairings.recovery_attempt</th>\n",
       "      <th>fairings.recovered</th>\n",
       "      <th>fairings.ships</th>\n",
       "      <th>links.patch.small</th>\n",
       "      <th>links.patch.large</th>\n",
       "      <th>links.reddit.campaign</th>\n",
       "      <th>links.reddit.launch</th>\n",
       "      <th>links.reddit.media</th>\n",
       "      <th>links.reddit.recovery</th>\n",
       "      <th>links.flickr.small</th>\n",
       "      <th>links.flickr.original</th>\n",
       "      <th>links.presskit</th>\n",
       "      <th>links.webcast</th>\n",
       "      <th>links.youtube_id</th>\n",
       "      <th>links.article</th>\n",
       "      <th>links.wikipedia</th>\n",
       "      <th>fairings</th>\n",
       "    </tr>\n",
       "  </thead>\n",
       "  <tbody>\n",
       "    <tr>\n",
       "      <th>0</th>\n",
       "      <td>2006-03-17T00:00:00.000Z</td>\n",
       "      <td>1.142554e+09</td>\n",
       "      <td>False</td>\n",
       "      <td>0.0</td>\n",
       "      <td>5e9d0d95eda69955f709d1eb</td>\n",
       "      <td>False</td>\n",
       "      <td>[{'time': 33, 'altitude': None, 'reason': 'merlin engine failure'}]</td>\n",
       "      <td>Engine failure at 33 seconds and loss of vehicle</td>\n",
       "      <td>[]</td>\n",
       "      <td>[]</td>\n",
       "      <td>[]</td>\n",
       "      <td>[5eb0e4b5b6c3bb0006eeb1e1]</td>\n",
       "      <td>5e9e4502f5090995de566f86</td>\n",
       "      <td>1</td>\n",
       "      <td>FalconSat</td>\n",
       "      <td>2006-03-24T22:30:00.000Z</td>\n",
       "      <td>1143239400</td>\n",
       "      <td>2006-03-25T10:30:00+12:00</td>\n",
       "      <td>hour</td>\n",
       "      <td>False</td>\n",
       "      <td>[{'core': '5e9e289df35918033d3b2623', 'flight': 1, 'gridfins': False, 'legs': False, 'reused': False, 'landing_attempt': False, 'landing_success': None, 'landing_type': None, 'landpad': None}]</td>\n",
       "      <td>True</td>\n",
       "      <td>False</td>\n",
       "      <td>None</td>\n",
       "      <td>5eb87cd9ffd86e000604b32a</td>\n",
       "      <td>False</td>\n",
       "      <td>False</td>\n",
       "      <td>False</td>\n",
       "      <td>[]</td>\n",
       "      <td>https://images2.imgbox.com/94/f2/NN6Ph45r_o.png</td>\n",
       "      <td>https://images2.imgbox.com/5b/02/QcxHUb5V_o.png</td>\n",
       "      <td>None</td>\n",
       "      <td>None</td>\n",
       "      <td>None</td>\n",
       "      <td>None</td>\n",
       "      <td>[]</td>\n",
       "      <td>[]</td>\n",
       "      <td>None</td>\n",
       "      <td>https://www.youtube.com/watch?v=0a_00nJ_Y88</td>\n",
       "      <td>0a_00nJ_Y88</td>\n",
       "      <td>https://www.space.com/2196-spacex-inaugural-falcon-1-rocket-lost-launch.html</td>\n",
       "      <td>https://en.wikipedia.org/wiki/DemoSat</td>\n",
       "      <td>NaN</td>\n",
       "    </tr>\n",
       "    <tr>\n",
       "      <th>1</th>\n",
       "      <td>None</td>\n",
       "      <td>NaN</td>\n",
       "      <td>False</td>\n",
       "      <td>0.0</td>\n",
       "      <td>5e9d0d95eda69955f709d1eb</td>\n",
       "      <td>False</td>\n",
       "      <td>[{'time': 301, 'altitude': 289, 'reason': 'harmonic oscillation leading to premature engine shutdown'}]</td>\n",
       "      <td>Successful first stage burn and transition to second stage, maximum altitude 289 km, Premature engine shutdown at T+7 min 30 s, Failed to reach orbit, Failed to recover first stage</td>\n",
       "      <td>[]</td>\n",
       "      <td>[]</td>\n",
       "      <td>[]</td>\n",
       "      <td>[5eb0e4b6b6c3bb0006eeb1e2]</td>\n",
       "      <td>5e9e4502f5090995de566f86</td>\n",
       "      <td>2</td>\n",
       "      <td>DemoSat</td>\n",
       "      <td>2007-03-21T01:10:00.000Z</td>\n",
       "      <td>1174439400</td>\n",
       "      <td>2007-03-21T13:10:00+12:00</td>\n",
       "      <td>hour</td>\n",
       "      <td>False</td>\n",
       "      <td>[{'core': '5e9e289ef35918416a3b2624', 'flight': 1, 'gridfins': False, 'legs': False, 'reused': False, 'landing_attempt': False, 'landing_success': None, 'landing_type': None, 'landpad': None}]</td>\n",
       "      <td>True</td>\n",
       "      <td>False</td>\n",
       "      <td>None</td>\n",
       "      <td>5eb87cdaffd86e000604b32b</td>\n",
       "      <td>False</td>\n",
       "      <td>False</td>\n",
       "      <td>False</td>\n",
       "      <td>[]</td>\n",
       "      <td>https://images2.imgbox.com/f9/4a/ZboXReNb_o.png</td>\n",
       "      <td>https://images2.imgbox.com/80/a2/bkWotCIS_o.png</td>\n",
       "      <td>None</td>\n",
       "      <td>None</td>\n",
       "      <td>None</td>\n",
       "      <td>None</td>\n",
       "      <td>[]</td>\n",
       "      <td>[]</td>\n",
       "      <td>None</td>\n",
       "      <td>https://www.youtube.com/watch?v=Lk4zQ2wP-Nc</td>\n",
       "      <td>Lk4zQ2wP-Nc</td>\n",
       "      <td>https://www.space.com/3590-spacex-falcon-1-rocket-fails-reach-orbit.html</td>\n",
       "      <td>https://en.wikipedia.org/wiki/DemoSat</td>\n",
       "      <td>NaN</td>\n",
       "    </tr>\n",
       "    <tr>\n",
       "      <th>2</th>\n",
       "      <td>None</td>\n",
       "      <td>NaN</td>\n",
       "      <td>False</td>\n",
       "      <td>0.0</td>\n",
       "      <td>5e9d0d95eda69955f709d1eb</td>\n",
       "      <td>False</td>\n",
       "      <td>[{'time': 140, 'altitude': 35, 'reason': 'residual stage-1 thrust led to collision between stage 1 and stage 2'}]</td>\n",
       "      <td>Residual stage 1 thrust led to collision between stage 1 and stage 2</td>\n",
       "      <td>[]</td>\n",
       "      <td>[]</td>\n",
       "      <td>[]</td>\n",
       "      <td>[5eb0e4b6b6c3bb0006eeb1e3, 5eb0e4b6b6c3bb0006eeb1e4]</td>\n",
       "      <td>5e9e4502f5090995de566f86</td>\n",
       "      <td>3</td>\n",
       "      <td>Trailblazer</td>\n",
       "      <td>2008-08-03T03:34:00.000Z</td>\n",
       "      <td>1217734440</td>\n",
       "      <td>2008-08-03T15:34:00+12:00</td>\n",
       "      <td>hour</td>\n",
       "      <td>False</td>\n",
       "      <td>[{'core': '5e9e289ef3591814873b2625', 'flight': 1, 'gridfins': False, 'legs': False, 'reused': False, 'landing_attempt': False, 'landing_success': None, 'landing_type': None, 'landpad': None}]</td>\n",
       "      <td>True</td>\n",
       "      <td>False</td>\n",
       "      <td>None</td>\n",
       "      <td>5eb87cdbffd86e000604b32c</td>\n",
       "      <td>False</td>\n",
       "      <td>False</td>\n",
       "      <td>False</td>\n",
       "      <td>[]</td>\n",
       "      <td>https://images2.imgbox.com/6c/cb/na1tzhHs_o.png</td>\n",
       "      <td>https://images2.imgbox.com/4a/80/k1oAkY0k_o.png</td>\n",
       "      <td>None</td>\n",
       "      <td>None</td>\n",
       "      <td>None</td>\n",
       "      <td>None</td>\n",
       "      <td>[]</td>\n",
       "      <td>[]</td>\n",
       "      <td>None</td>\n",
       "      <td>https://www.youtube.com/watch?v=v0w9p3U8860</td>\n",
       "      <td>v0w9p3U8860</td>\n",
       "      <td>http://www.spacex.com/news/2013/02/11/falcon-1-flight-3-mission-summary</td>\n",
       "      <td>https://en.wikipedia.org/wiki/Trailblazer_(satellite)</td>\n",
       "      <td>NaN</td>\n",
       "    </tr>\n",
       "    <tr>\n",
       "      <th>3</th>\n",
       "      <td>2008-09-20T00:00:00.000Z</td>\n",
       "      <td>1.221869e+09</td>\n",
       "      <td>False</td>\n",
       "      <td>0.0</td>\n",
       "      <td>5e9d0d95eda69955f709d1eb</td>\n",
       "      <td>True</td>\n",
       "      <td>[]</td>\n",
       "      <td>Ratsat was carried to orbit on the first successful orbital launch of any privately funded and developed, liquid-propelled carrier rocket, the SpaceX Falcon 1</td>\n",
       "      <td>[]</td>\n",
       "      <td>[]</td>\n",
       "      <td>[]</td>\n",
       "      <td>[5eb0e4b7b6c3bb0006eeb1e5]</td>\n",
       "      <td>5e9e4502f5090995de566f86</td>\n",
       "      <td>4</td>\n",
       "      <td>RatSat</td>\n",
       "      <td>2008-09-28T23:15:00.000Z</td>\n",
       "      <td>1222643700</td>\n",
       "      <td>2008-09-28T11:15:00+12:00</td>\n",
       "      <td>hour</td>\n",
       "      <td>False</td>\n",
       "      <td>[{'core': '5e9e289ef3591855dc3b2626', 'flight': 1, 'gridfins': False, 'legs': False, 'reused': False, 'landing_attempt': False, 'landing_success': None, 'landing_type': None, 'landpad': None}]</td>\n",
       "      <td>True</td>\n",
       "      <td>False</td>\n",
       "      <td>None</td>\n",
       "      <td>5eb87cdbffd86e000604b32d</td>\n",
       "      <td>False</td>\n",
       "      <td>False</td>\n",
       "      <td>False</td>\n",
       "      <td>[]</td>\n",
       "      <td>https://images2.imgbox.com/95/39/sRqN7rsv_o.png</td>\n",
       "      <td>https://images2.imgbox.com/a3/99/qswRYzE8_o.png</td>\n",
       "      <td>None</td>\n",
       "      <td>None</td>\n",
       "      <td>None</td>\n",
       "      <td>None</td>\n",
       "      <td>[]</td>\n",
       "      <td>[]</td>\n",
       "      <td>None</td>\n",
       "      <td>https://www.youtube.com/watch?v=dLQ2tZEH6G0</td>\n",
       "      <td>dLQ2tZEH6G0</td>\n",
       "      <td>https://en.wikipedia.org/wiki/Ratsat</td>\n",
       "      <td>https://en.wikipedia.org/wiki/Ratsat</td>\n",
       "      <td>NaN</td>\n",
       "    </tr>\n",
       "    <tr>\n",
       "      <th>4</th>\n",
       "      <td>None</td>\n",
       "      <td>NaN</td>\n",
       "      <td>False</td>\n",
       "      <td>0.0</td>\n",
       "      <td>5e9d0d95eda69955f709d1eb</td>\n",
       "      <td>True</td>\n",
       "      <td>[]</td>\n",
       "      <td>None</td>\n",
       "      <td>[]</td>\n",
       "      <td>[]</td>\n",
       "      <td>[]</td>\n",
       "      <td>[5eb0e4b7b6c3bb0006eeb1e6]</td>\n",
       "      <td>5e9e4502f5090995de566f86</td>\n",
       "      <td>5</td>\n",
       "      <td>RazakSat</td>\n",
       "      <td>2009-07-13T03:35:00.000Z</td>\n",
       "      <td>1247456100</td>\n",
       "      <td>2009-07-13T15:35:00+12:00</td>\n",
       "      <td>hour</td>\n",
       "      <td>False</td>\n",
       "      <td>[{'core': '5e9e289ef359184f103b2627', 'flight': 1, 'gridfins': False, 'legs': False, 'reused': False, 'landing_attempt': False, 'landing_success': None, 'landing_type': None, 'landpad': None}]</td>\n",
       "      <td>True</td>\n",
       "      <td>False</td>\n",
       "      <td>None</td>\n",
       "      <td>5eb87cdcffd86e000604b32e</td>\n",
       "      <td>False</td>\n",
       "      <td>False</td>\n",
       "      <td>False</td>\n",
       "      <td>[]</td>\n",
       "      <td>https://images2.imgbox.com/ab/5a/Pequxd5d_o.png</td>\n",
       "      <td>https://images2.imgbox.com/92/e4/7Cf6MLY0_o.png</td>\n",
       "      <td>None</td>\n",
       "      <td>None</td>\n",
       "      <td>None</td>\n",
       "      <td>None</td>\n",
       "      <td>[]</td>\n",
       "      <td>[]</td>\n",
       "      <td>http://www.spacex.com/press/2012/12/19/spacexs-falcon-1-successfully-delivers-razaksat-satellite-orbit</td>\n",
       "      <td>https://www.youtube.com/watch?v=yTaIDooc8Og</td>\n",
       "      <td>yTaIDooc8Og</td>\n",
       "      <td>http://www.spacex.com/news/2013/02/12/falcon-1-flight-5</td>\n",
       "      <td>https://en.wikipedia.org/wiki/RazakSAT</td>\n",
       "      <td>NaN</td>\n",
       "    </tr>\n",
       "  </tbody>\n",
       "</table>\n",
       "</div>"
      ],
      "text/plain": [
       "       static_fire_date_utc  static_fire_date_unix    net  window  \\\n",
       "0  2006-03-17T00:00:00.000Z           1.142554e+09  False     0.0   \n",
       "1                      None                    NaN  False     0.0   \n",
       "2                      None                    NaN  False     0.0   \n",
       "3  2008-09-20T00:00:00.000Z           1.221869e+09  False     0.0   \n",
       "4                      None                    NaN  False     0.0   \n",
       "\n",
       "                     rocket success  \\\n",
       "0  5e9d0d95eda69955f709d1eb   False   \n",
       "1  5e9d0d95eda69955f709d1eb   False   \n",
       "2  5e9d0d95eda69955f709d1eb   False   \n",
       "3  5e9d0d95eda69955f709d1eb    True   \n",
       "4  5e9d0d95eda69955f709d1eb    True   \n",
       "\n",
       "                                                                                                            failures  \\\n",
       "0                                                [{'time': 33, 'altitude': None, 'reason': 'merlin engine failure'}]   \n",
       "1            [{'time': 301, 'altitude': 289, 'reason': 'harmonic oscillation leading to premature engine shutdown'}]   \n",
       "2  [{'time': 140, 'altitude': 35, 'reason': 'residual stage-1 thrust led to collision between stage 1 and stage 2'}]   \n",
       "3                                                                                                                 []   \n",
       "4                                                                                                                 []   \n",
       "\n",
       "                                                                                                                                                                                details  \\\n",
       "0                                                                                                                                      Engine failure at 33 seconds and loss of vehicle   \n",
       "1  Successful first stage burn and transition to second stage, maximum altitude 289 km, Premature engine shutdown at T+7 min 30 s, Failed to reach orbit, Failed to recover first stage   \n",
       "2                                                                                                                  Residual stage 1 thrust led to collision between stage 1 and stage 2   \n",
       "3                        Ratsat was carried to orbit on the first successful orbital launch of any privately funded and developed, liquid-propelled carrier rocket, the SpaceX Falcon 1   \n",
       "4                                                                                                                                                                                  None   \n",
       "\n",
       "  crew ships capsules                                              payloads  \\\n",
       "0   []    []       []                            [5eb0e4b5b6c3bb0006eeb1e1]   \n",
       "1   []    []       []                            [5eb0e4b6b6c3bb0006eeb1e2]   \n",
       "2   []    []       []  [5eb0e4b6b6c3bb0006eeb1e3, 5eb0e4b6b6c3bb0006eeb1e4]   \n",
       "3   []    []       []                            [5eb0e4b7b6c3bb0006eeb1e5]   \n",
       "4   []    []       []                            [5eb0e4b7b6c3bb0006eeb1e6]   \n",
       "\n",
       "                  launchpad  flight_number         name  \\\n",
       "0  5e9e4502f5090995de566f86              1    FalconSat   \n",
       "1  5e9e4502f5090995de566f86              2      DemoSat   \n",
       "2  5e9e4502f5090995de566f86              3  Trailblazer   \n",
       "3  5e9e4502f5090995de566f86              4       RatSat   \n",
       "4  5e9e4502f5090995de566f86              5     RazakSat   \n",
       "\n",
       "                   date_utc   date_unix                 date_local  \\\n",
       "0  2006-03-24T22:30:00.000Z  1143239400  2006-03-25T10:30:00+12:00   \n",
       "1  2007-03-21T01:10:00.000Z  1174439400  2007-03-21T13:10:00+12:00   \n",
       "2  2008-08-03T03:34:00.000Z  1217734440  2008-08-03T15:34:00+12:00   \n",
       "3  2008-09-28T23:15:00.000Z  1222643700  2008-09-28T11:15:00+12:00   \n",
       "4  2009-07-13T03:35:00.000Z  1247456100  2009-07-13T15:35:00+12:00   \n",
       "\n",
       "  date_precision  upcoming  \\\n",
       "0           hour     False   \n",
       "1           hour     False   \n",
       "2           hour     False   \n",
       "3           hour     False   \n",
       "4           hour     False   \n",
       "\n",
       "                                                                                                                                                                                              cores  \\\n",
       "0  [{'core': '5e9e289df35918033d3b2623', 'flight': 1, 'gridfins': False, 'legs': False, 'reused': False, 'landing_attempt': False, 'landing_success': None, 'landing_type': None, 'landpad': None}]   \n",
       "1  [{'core': '5e9e289ef35918416a3b2624', 'flight': 1, 'gridfins': False, 'legs': False, 'reused': False, 'landing_attempt': False, 'landing_success': None, 'landing_type': None, 'landpad': None}]   \n",
       "2  [{'core': '5e9e289ef3591814873b2625', 'flight': 1, 'gridfins': False, 'legs': False, 'reused': False, 'landing_attempt': False, 'landing_success': None, 'landing_type': None, 'landpad': None}]   \n",
       "3  [{'core': '5e9e289ef3591855dc3b2626', 'flight': 1, 'gridfins': False, 'legs': False, 'reused': False, 'landing_attempt': False, 'landing_success': None, 'landing_type': None, 'landpad': None}]   \n",
       "4  [{'core': '5e9e289ef359184f103b2627', 'flight': 1, 'gridfins': False, 'legs': False, 'reused': False, 'landing_attempt': False, 'landing_success': None, 'landing_type': None, 'landpad': None}]   \n",
       "\n",
       "   auto_update    tbd launch_library_id                        id  \\\n",
       "0         True  False              None  5eb87cd9ffd86e000604b32a   \n",
       "1         True  False              None  5eb87cdaffd86e000604b32b   \n",
       "2         True  False              None  5eb87cdbffd86e000604b32c   \n",
       "3         True  False              None  5eb87cdbffd86e000604b32d   \n",
       "4         True  False              None  5eb87cdcffd86e000604b32e   \n",
       "\n",
       "  fairings.reused fairings.recovery_attempt fairings.recovered fairings.ships  \\\n",
       "0           False                     False              False             []   \n",
       "1           False                     False              False             []   \n",
       "2           False                     False              False             []   \n",
       "3           False                     False              False             []   \n",
       "4           False                     False              False             []   \n",
       "\n",
       "                                 links.patch.small  \\\n",
       "0  https://images2.imgbox.com/94/f2/NN6Ph45r_o.png   \n",
       "1  https://images2.imgbox.com/f9/4a/ZboXReNb_o.png   \n",
       "2  https://images2.imgbox.com/6c/cb/na1tzhHs_o.png   \n",
       "3  https://images2.imgbox.com/95/39/sRqN7rsv_o.png   \n",
       "4  https://images2.imgbox.com/ab/5a/Pequxd5d_o.png   \n",
       "\n",
       "                                 links.patch.large links.reddit.campaign  \\\n",
       "0  https://images2.imgbox.com/5b/02/QcxHUb5V_o.png                  None   \n",
       "1  https://images2.imgbox.com/80/a2/bkWotCIS_o.png                  None   \n",
       "2  https://images2.imgbox.com/4a/80/k1oAkY0k_o.png                  None   \n",
       "3  https://images2.imgbox.com/a3/99/qswRYzE8_o.png                  None   \n",
       "4  https://images2.imgbox.com/92/e4/7Cf6MLY0_o.png                  None   \n",
       "\n",
       "  links.reddit.launch links.reddit.media links.reddit.recovery  \\\n",
       "0                None               None                  None   \n",
       "1                None               None                  None   \n",
       "2                None               None                  None   \n",
       "3                None               None                  None   \n",
       "4                None               None                  None   \n",
       "\n",
       "  links.flickr.small links.flickr.original  \\\n",
       "0                 []                    []   \n",
       "1                 []                    []   \n",
       "2                 []                    []   \n",
       "3                 []                    []   \n",
       "4                 []                    []   \n",
       "\n",
       "                                                                                           links.presskit  \\\n",
       "0                                                                                                    None   \n",
       "1                                                                                                    None   \n",
       "2                                                                                                    None   \n",
       "3                                                                                                    None   \n",
       "4  http://www.spacex.com/press/2012/12/19/spacexs-falcon-1-successfully-delivers-razaksat-satellite-orbit   \n",
       "\n",
       "                                 links.webcast links.youtube_id  \\\n",
       "0  https://www.youtube.com/watch?v=0a_00nJ_Y88      0a_00nJ_Y88   \n",
       "1  https://www.youtube.com/watch?v=Lk4zQ2wP-Nc      Lk4zQ2wP-Nc   \n",
       "2  https://www.youtube.com/watch?v=v0w9p3U8860      v0w9p3U8860   \n",
       "3  https://www.youtube.com/watch?v=dLQ2tZEH6G0      dLQ2tZEH6G0   \n",
       "4  https://www.youtube.com/watch?v=yTaIDooc8Og      yTaIDooc8Og   \n",
       "\n",
       "                                                                  links.article  \\\n",
       "0  https://www.space.com/2196-spacex-inaugural-falcon-1-rocket-lost-launch.html   \n",
       "1      https://www.space.com/3590-spacex-falcon-1-rocket-fails-reach-orbit.html   \n",
       "2       http://www.spacex.com/news/2013/02/11/falcon-1-flight-3-mission-summary   \n",
       "3                                          https://en.wikipedia.org/wiki/Ratsat   \n",
       "4                       http://www.spacex.com/news/2013/02/12/falcon-1-flight-5   \n",
       "\n",
       "                                         links.wikipedia  fairings  \n",
       "0                  https://en.wikipedia.org/wiki/DemoSat       NaN  \n",
       "1                  https://en.wikipedia.org/wiki/DemoSat       NaN  \n",
       "2  https://en.wikipedia.org/wiki/Trailblazer_(satellite)       NaN  \n",
       "3                   https://en.wikipedia.org/wiki/Ratsat       NaN  \n",
       "4                 https://en.wikipedia.org/wiki/RazakSAT       NaN  "
      ]
     },
     "execution_count": 12,
     "metadata": {},
     "output_type": "execute_result"
    }
   ],
   "source": [
    "# Get the head of the dataframe\n",
    "data.head()"
   ]
  },
  {
   "cell_type": "markdown",
   "id": "bad5a989-03c0-4ddf-a82c-be9a62c49329",
   "metadata": {},
   "source": [
    "You will notice that a lot of the data are IDs. For example the rocket column has no information about the rocket just an identification number.\n",
    "\n",
    "We will now use the API again to get information about the launches using the IDs given for each launch. Specifically we will be using columns <code>rocket</code>, <code>payloads</code>, <code>launchpad</code>, and <code>cores</code>.\n"
   ]
  },
  {
   "cell_type": "code",
   "execution_count": 13,
   "id": "4c00d09a-e5b6-48cc-a9b6-b3fd1200a63c",
   "metadata": {
    "tags": []
   },
   "outputs": [],
   "source": [
    "# Lets take a subset of our dataframe keeping only the features we want and the flight number, and date_utc.\n",
    "data = data[['rocket', 'payloads', 'launchpad', 'cores', 'flight_number', 'date_utc']]\n",
    "\n",
    "# We will remove rows with multiple cores because those are falcon rockets with 2 extra rocket boosters and rows that have multiple payloads in a single rocket.\n",
    "data = data[data['cores'].map(len)==1]\n",
    "data = data[data['payloads'].map(len)==1]\n",
    "\n",
    "# Since payloads and cores are lists of size 1 we will also extract the single value in the list and replace the feature.\n",
    "data['cores'] = data['cores'].map(lambda x : x[0])\n",
    "data['payloads'] = data['payloads'].map(lambda x : x[0])\n",
    "\n",
    "# We also want to convert the date_utc to a datetime datatype and then extracting the date leaving the time\n",
    "data['date'] = pd.to_datetime(data['date_utc']).dt.date\n",
    "\n",
    "# Using the date we will restrict the dates of the launches\n",
    "data = data[data['date'] <= datetime.date(2020, 11, 13)]"
   ]
  },
  {
   "cell_type": "markdown",
   "id": "16ced91a-4fd8-4579-9b0e-8e2d19287909",
   "metadata": {
    "tags": []
   },
   "source": [
    "* From the <code>rocket</code> we would like to learn the booster name\n",
    "\n",
    "* From the <code>payload</code> we would like to learn the mass of the payload and the orbit that it is going to\n",
    "\n",
    "* From the <code>launchpad</code> we would like to know the name of the launch site being used, the longitude, and the latitude.\n",
    "\n",
    "* From <code>cores</code> we would like to learn the outcome of the landing, the type of the landing, number of flights with that core, whether gridfins were used, whether the core is reused, whether legs were used, the landing pad used, the block of the core which is a number used to seperate version of cores, the number of times this specific core has been reused, and the serial of the core.\n",
    "\n",
    "The data from these requests will be stored in lists and will be used to create a new dataframe.\n"
   ]
  },
  {
   "cell_type": "code",
   "execution_count": 14,
   "id": "721f0717-2881-4c13-83df-384af22e7799",
   "metadata": {
    "tags": []
   },
   "outputs": [],
   "source": [
    "#Global variables \n",
    "BoosterVersion = []\n",
    "PayloadMass = []\n",
    "Orbit = []\n",
    "LaunchSite = []\n",
    "Outcome = []\n",
    "Flights = []\n",
    "GridFins = []\n",
    "Reused = []\n",
    "Legs = []\n",
    "LandingPad = []\n",
    "Block = []\n",
    "ReusedCount = []\n",
    "Serial = []\n",
    "Longitude = []\n",
    "Latitude = []"
   ]
  },
  {
   "cell_type": "markdown",
   "id": "7b86d96f-15b6-4d62-b54a-dabdc0aef5c4",
   "metadata": {},
   "source": [
    "These functions will apply the outputs globally to the above variables. Let's take a looks at <code>BoosterVersion</code> variable. Before we apply  <code>getBoosterVersion</code> the list is empty:\n"
   ]
  },
  {
   "cell_type": "markdown",
   "id": "3efe4941-db3e-4122-a9c1-e8bc8713c418",
   "metadata": {},
   "source": [
    "Now, let's apply <code> getBoosterVersion</code> function method to get the booster version\n"
   ]
  },
  {
   "cell_type": "code",
   "execution_count": 15,
   "id": "c51af4e4-87ff-45db-95ec-7b9c24676e99",
   "metadata": {
    "tags": []
   },
   "outputs": [],
   "source": [
    "# Call getBoosterVersion\n",
    "getBoosterVersion(data)"
   ]
  },
  {
   "cell_type": "markdown",
   "id": "32f94921-f711-456d-baac-e7b604cd93f2",
   "metadata": {},
   "source": [
    "the list has now been update \n"
   ]
  },
  {
   "cell_type": "code",
   "execution_count": 16,
   "id": "c9775c79-81e8-47e5-a243-29a8a552699d",
   "metadata": {
    "tags": []
   },
   "outputs": [
    {
     "data": {
      "text/plain": [
       "['Falcon 1', 'Falcon 1', 'Falcon 1', 'Falcon 1', 'Falcon 9']"
      ]
     },
     "execution_count": 16,
     "metadata": {},
     "output_type": "execute_result"
    }
   ],
   "source": [
    "BoosterVersion[0:5]"
   ]
  },
  {
   "cell_type": "markdown",
   "id": "cd4a722f-463f-4823-af30-e0fbe9c41fd0",
   "metadata": {},
   "source": [
    "we can apply the rest of the  functions here:"
   ]
  },
  {
   "cell_type": "code",
   "execution_count": 17,
   "id": "1d73b3b5-ad62-4a9e-9ece-86c2cf385452",
   "metadata": {
    "tags": []
   },
   "outputs": [],
   "source": [
    "# Call getLaunchSite\n",
    "getLaunchSite(data)\n",
    "# Call getPayloadData\n",
    "getPayloadData(data)\n",
    "# Call getCoreData\n",
    "getCoreData(data)"
   ]
  },
  {
   "cell_type": "markdown",
   "id": "6cfc060d-6dc1-4c54-9897-69d706513e46",
   "metadata": {
    "tags": []
   },
   "source": [
    "Finally lets construct our dataset using the data we have obtained. We we combine the columns into a dictionary."
   ]
  },
  {
   "cell_type": "code",
   "execution_count": 18,
   "id": "fc7f256b-c4d7-48fb-803b-7288db09af8d",
   "metadata": {
    "tags": []
   },
   "outputs": [],
   "source": [
    "launch_dict = {\n",
    "    'FlightNumber': list(data['flight_number']),\n",
    "    'Date': list(data['date']),\n",
    "    'BoosterVersion':BoosterVersion,\n",
    "    'PayloadMass':PayloadMass,\n",
    "    'Orbit':Orbit,\n",
    "    'LaunchSite':LaunchSite,\n",
    "    'Outcome':Outcome,\n",
    "    'Flights':Flights,\n",
    "    'GridFins':GridFins,\n",
    "    'Reused':Reused,\n",
    "    'Legs':Legs,\n",
    "    'LandingPad':LandingPad,\n",
    "    'Block':Block,\n",
    "    'ReusedCount':ReusedCount,\n",
    "    'Serial':Serial,\n",
    "    'Longitude': Longitude,\n",
    "    'Latitude': Latitude\n",
    "}"
   ]
  },
  {
   "cell_type": "markdown",
   "id": "6750e44f-9aa7-4b23-a096-99019f217027",
   "metadata": {},
   "source": [
    "Then, we need to create a Pandas data frame from the dictionary launch_dict."
   ]
  },
  {
   "cell_type": "code",
   "execution_count": 19,
   "id": "f7ec4f67-c592-4db5-bcb4-58b36b000d09",
   "metadata": {
    "tags": []
   },
   "outputs": [
    {
     "data": {
      "text/html": [
       "<div>\n",
       "<style scoped>\n",
       "    .dataframe tbody tr th:only-of-type {\n",
       "        vertical-align: middle;\n",
       "    }\n",
       "\n",
       "    .dataframe tbody tr th {\n",
       "        vertical-align: top;\n",
       "    }\n",
       "\n",
       "    .dataframe thead th {\n",
       "        text-align: right;\n",
       "    }\n",
       "</style>\n",
       "<table border=\"1\" class=\"dataframe\">\n",
       "  <thead>\n",
       "    <tr style=\"text-align: right;\">\n",
       "      <th></th>\n",
       "      <th>FlightNumber</th>\n",
       "      <th>Date</th>\n",
       "      <th>BoosterVersion</th>\n",
       "      <th>PayloadMass</th>\n",
       "      <th>Orbit</th>\n",
       "      <th>LaunchSite</th>\n",
       "      <th>Outcome</th>\n",
       "      <th>Flights</th>\n",
       "      <th>GridFins</th>\n",
       "      <th>Reused</th>\n",
       "      <th>Legs</th>\n",
       "      <th>LandingPad</th>\n",
       "      <th>Block</th>\n",
       "      <th>ReusedCount</th>\n",
       "      <th>Serial</th>\n",
       "      <th>Longitude</th>\n",
       "      <th>Latitude</th>\n",
       "    </tr>\n",
       "  </thead>\n",
       "  <tbody>\n",
       "    <tr>\n",
       "      <th>0</th>\n",
       "      <td>1</td>\n",
       "      <td>2006-03-24</td>\n",
       "      <td>Falcon 1</td>\n",
       "      <td>20.0</td>\n",
       "      <td>LEO</td>\n",
       "      <td>Kwajalein Atoll</td>\n",
       "      <td>None None</td>\n",
       "      <td>1</td>\n",
       "      <td>False</td>\n",
       "      <td>False</td>\n",
       "      <td>False</td>\n",
       "      <td>None</td>\n",
       "      <td>NaN</td>\n",
       "      <td>0</td>\n",
       "      <td>Merlin1A</td>\n",
       "      <td>167.743129</td>\n",
       "      <td>9.047721</td>\n",
       "    </tr>\n",
       "    <tr>\n",
       "      <th>1</th>\n",
       "      <td>2</td>\n",
       "      <td>2007-03-21</td>\n",
       "      <td>Falcon 1</td>\n",
       "      <td>NaN</td>\n",
       "      <td>LEO</td>\n",
       "      <td>Kwajalein Atoll</td>\n",
       "      <td>None None</td>\n",
       "      <td>1</td>\n",
       "      <td>False</td>\n",
       "      <td>False</td>\n",
       "      <td>False</td>\n",
       "      <td>None</td>\n",
       "      <td>NaN</td>\n",
       "      <td>0</td>\n",
       "      <td>Merlin2A</td>\n",
       "      <td>167.743129</td>\n",
       "      <td>9.047721</td>\n",
       "    </tr>\n",
       "    <tr>\n",
       "      <th>2</th>\n",
       "      <td>4</td>\n",
       "      <td>2008-09-28</td>\n",
       "      <td>Falcon 1</td>\n",
       "      <td>165.0</td>\n",
       "      <td>LEO</td>\n",
       "      <td>Kwajalein Atoll</td>\n",
       "      <td>None None</td>\n",
       "      <td>1</td>\n",
       "      <td>False</td>\n",
       "      <td>False</td>\n",
       "      <td>False</td>\n",
       "      <td>None</td>\n",
       "      <td>NaN</td>\n",
       "      <td>0</td>\n",
       "      <td>Merlin2C</td>\n",
       "      <td>167.743129</td>\n",
       "      <td>9.047721</td>\n",
       "    </tr>\n",
       "    <tr>\n",
       "      <th>3</th>\n",
       "      <td>5</td>\n",
       "      <td>2009-07-13</td>\n",
       "      <td>Falcon 1</td>\n",
       "      <td>200.0</td>\n",
       "      <td>LEO</td>\n",
       "      <td>Kwajalein Atoll</td>\n",
       "      <td>None None</td>\n",
       "      <td>1</td>\n",
       "      <td>False</td>\n",
       "      <td>False</td>\n",
       "      <td>False</td>\n",
       "      <td>None</td>\n",
       "      <td>NaN</td>\n",
       "      <td>0</td>\n",
       "      <td>Merlin3C</td>\n",
       "      <td>167.743129</td>\n",
       "      <td>9.047721</td>\n",
       "    </tr>\n",
       "    <tr>\n",
       "      <th>4</th>\n",
       "      <td>6</td>\n",
       "      <td>2010-06-04</td>\n",
       "      <td>Falcon 9</td>\n",
       "      <td>NaN</td>\n",
       "      <td>LEO</td>\n",
       "      <td>CCSFS SLC 40</td>\n",
       "      <td>None None</td>\n",
       "      <td>1</td>\n",
       "      <td>False</td>\n",
       "      <td>False</td>\n",
       "      <td>False</td>\n",
       "      <td>None</td>\n",
       "      <td>1.0</td>\n",
       "      <td>0</td>\n",
       "      <td>B0003</td>\n",
       "      <td>-80.577366</td>\n",
       "      <td>28.561857</td>\n",
       "    </tr>\n",
       "  </tbody>\n",
       "</table>\n",
       "</div>"
      ],
      "text/plain": [
       "   FlightNumber        Date BoosterVersion  PayloadMass Orbit  \\\n",
       "0             1  2006-03-24       Falcon 1         20.0   LEO   \n",
       "1             2  2007-03-21       Falcon 1          NaN   LEO   \n",
       "2             4  2008-09-28       Falcon 1        165.0   LEO   \n",
       "3             5  2009-07-13       Falcon 1        200.0   LEO   \n",
       "4             6  2010-06-04       Falcon 9          NaN   LEO   \n",
       "\n",
       "        LaunchSite    Outcome  Flights  GridFins  Reused   Legs LandingPad  \\\n",
       "0  Kwajalein Atoll  None None        1     False   False  False       None   \n",
       "1  Kwajalein Atoll  None None        1     False   False  False       None   \n",
       "2  Kwajalein Atoll  None None        1     False   False  False       None   \n",
       "3  Kwajalein Atoll  None None        1     False   False  False       None   \n",
       "4     CCSFS SLC 40  None None        1     False   False  False       None   \n",
       "\n",
       "   Block  ReusedCount    Serial   Longitude   Latitude  \n",
       "0    NaN            0  Merlin1A  167.743129   9.047721  \n",
       "1    NaN            0  Merlin2A  167.743129   9.047721  \n",
       "2    NaN            0  Merlin2C  167.743129   9.047721  \n",
       "3    NaN            0  Merlin3C  167.743129   9.047721  \n",
       "4    1.0            0     B0003  -80.577366  28.561857  "
      ]
     },
     "execution_count": 19,
     "metadata": {},
     "output_type": "execute_result"
    }
   ],
   "source": [
    "# Create a data from launch_dict\n",
    "data = pd.DataFrame(launch_dict)\n",
    "data.head()"
   ]
  },
  {
   "cell_type": "markdown",
   "id": "0696a6f2-13f9-4c47-bae4-529fffafd992",
   "metadata": {},
   "source": [
    "### Task 2: Filter the dataframe to only include `Falcon 9` launches"
   ]
  },
  {
   "cell_type": "markdown",
   "id": "f4fb4c7b-cd82-4dfc-b658-84bd578b5d51",
   "metadata": {},
   "source": [
    "Finally we will remove the Falcon 1 launches keeping only the Falcon 9 launches. Filter the data dataframe using the <code>BoosterVersion</code> column to only keep the Falcon 9 launches. Save the filtered data to a new dataframe called <code>data_falcon9</code>."
   ]
  },
  {
   "cell_type": "code",
   "execution_count": 20,
   "id": "fcddf871-2d3f-4944-8b2f-44879ed70038",
   "metadata": {
    "tags": []
   },
   "outputs": [
    {
     "data": {
      "text/plain": [
       "array(['Falcon 1', 'Falcon 9'], dtype=object)"
      ]
     },
     "execution_count": 20,
     "metadata": {},
     "output_type": "execute_result"
    }
   ],
   "source": [
    "data[\"BoosterVersion\"].unique()"
   ]
  },
  {
   "cell_type": "code",
   "execution_count": 21,
   "id": "40bd1439-70b0-4637-ad95-9a82d6a4f40c",
   "metadata": {
    "tags": []
   },
   "outputs": [
    {
     "data": {
      "text/html": [
       "<div>\n",
       "<style scoped>\n",
       "    .dataframe tbody tr th:only-of-type {\n",
       "        vertical-align: middle;\n",
       "    }\n",
       "\n",
       "    .dataframe tbody tr th {\n",
       "        vertical-align: top;\n",
       "    }\n",
       "\n",
       "    .dataframe thead th {\n",
       "        text-align: right;\n",
       "    }\n",
       "</style>\n",
       "<table border=\"1\" class=\"dataframe\">\n",
       "  <thead>\n",
       "    <tr style=\"text-align: right;\">\n",
       "      <th></th>\n",
       "      <th>FlightNumber</th>\n",
       "      <th>Date</th>\n",
       "      <th>BoosterVersion</th>\n",
       "      <th>PayloadMass</th>\n",
       "      <th>Orbit</th>\n",
       "      <th>LaunchSite</th>\n",
       "      <th>Outcome</th>\n",
       "      <th>Flights</th>\n",
       "      <th>GridFins</th>\n",
       "      <th>Reused</th>\n",
       "      <th>Legs</th>\n",
       "      <th>LandingPad</th>\n",
       "      <th>Block</th>\n",
       "      <th>ReusedCount</th>\n",
       "      <th>Serial</th>\n",
       "      <th>Longitude</th>\n",
       "      <th>Latitude</th>\n",
       "    </tr>\n",
       "  </thead>\n",
       "  <tbody>\n",
       "    <tr>\n",
       "      <th>4</th>\n",
       "      <td>6</td>\n",
       "      <td>2010-06-04</td>\n",
       "      <td>Falcon 9</td>\n",
       "      <td>NaN</td>\n",
       "      <td>LEO</td>\n",
       "      <td>CCSFS SLC 40</td>\n",
       "      <td>None None</td>\n",
       "      <td>1</td>\n",
       "      <td>False</td>\n",
       "      <td>False</td>\n",
       "      <td>False</td>\n",
       "      <td>None</td>\n",
       "      <td>1.0</td>\n",
       "      <td>0</td>\n",
       "      <td>B0003</td>\n",
       "      <td>-80.577366</td>\n",
       "      <td>28.561857</td>\n",
       "    </tr>\n",
       "    <tr>\n",
       "      <th>5</th>\n",
       "      <td>8</td>\n",
       "      <td>2012-05-22</td>\n",
       "      <td>Falcon 9</td>\n",
       "      <td>525.0</td>\n",
       "      <td>LEO</td>\n",
       "      <td>CCSFS SLC 40</td>\n",
       "      <td>None None</td>\n",
       "      <td>1</td>\n",
       "      <td>False</td>\n",
       "      <td>False</td>\n",
       "      <td>False</td>\n",
       "      <td>None</td>\n",
       "      <td>1.0</td>\n",
       "      <td>0</td>\n",
       "      <td>B0005</td>\n",
       "      <td>-80.577366</td>\n",
       "      <td>28.561857</td>\n",
       "    </tr>\n",
       "    <tr>\n",
       "      <th>6</th>\n",
       "      <td>10</td>\n",
       "      <td>2013-03-01</td>\n",
       "      <td>Falcon 9</td>\n",
       "      <td>677.0</td>\n",
       "      <td>ISS</td>\n",
       "      <td>CCSFS SLC 40</td>\n",
       "      <td>None None</td>\n",
       "      <td>1</td>\n",
       "      <td>False</td>\n",
       "      <td>False</td>\n",
       "      <td>False</td>\n",
       "      <td>None</td>\n",
       "      <td>1.0</td>\n",
       "      <td>0</td>\n",
       "      <td>B0007</td>\n",
       "      <td>-80.577366</td>\n",
       "      <td>28.561857</td>\n",
       "    </tr>\n",
       "    <tr>\n",
       "      <th>7</th>\n",
       "      <td>11</td>\n",
       "      <td>2013-09-29</td>\n",
       "      <td>Falcon 9</td>\n",
       "      <td>500.0</td>\n",
       "      <td>PO</td>\n",
       "      <td>VAFB SLC 4E</td>\n",
       "      <td>False Ocean</td>\n",
       "      <td>1</td>\n",
       "      <td>False</td>\n",
       "      <td>False</td>\n",
       "      <td>False</td>\n",
       "      <td>None</td>\n",
       "      <td>1.0</td>\n",
       "      <td>0</td>\n",
       "      <td>B1003</td>\n",
       "      <td>-120.610829</td>\n",
       "      <td>34.632093</td>\n",
       "    </tr>\n",
       "    <tr>\n",
       "      <th>8</th>\n",
       "      <td>12</td>\n",
       "      <td>2013-12-03</td>\n",
       "      <td>Falcon 9</td>\n",
       "      <td>3170.0</td>\n",
       "      <td>GTO</td>\n",
       "      <td>CCSFS SLC 40</td>\n",
       "      <td>None None</td>\n",
       "      <td>1</td>\n",
       "      <td>False</td>\n",
       "      <td>False</td>\n",
       "      <td>False</td>\n",
       "      <td>None</td>\n",
       "      <td>1.0</td>\n",
       "      <td>0</td>\n",
       "      <td>B1004</td>\n",
       "      <td>-80.577366</td>\n",
       "      <td>28.561857</td>\n",
       "    </tr>\n",
       "  </tbody>\n",
       "</table>\n",
       "</div>"
      ],
      "text/plain": [
       "   FlightNumber        Date BoosterVersion  PayloadMass Orbit    LaunchSite  \\\n",
       "4             6  2010-06-04       Falcon 9          NaN   LEO  CCSFS SLC 40   \n",
       "5             8  2012-05-22       Falcon 9        525.0   LEO  CCSFS SLC 40   \n",
       "6            10  2013-03-01       Falcon 9        677.0   ISS  CCSFS SLC 40   \n",
       "7            11  2013-09-29       Falcon 9        500.0    PO   VAFB SLC 4E   \n",
       "8            12  2013-12-03       Falcon 9       3170.0   GTO  CCSFS SLC 40   \n",
       "\n",
       "       Outcome  Flights  GridFins  Reused   Legs LandingPad  Block  \\\n",
       "4    None None        1     False   False  False       None    1.0   \n",
       "5    None None        1     False   False  False       None    1.0   \n",
       "6    None None        1     False   False  False       None    1.0   \n",
       "7  False Ocean        1     False   False  False       None    1.0   \n",
       "8    None None        1     False   False  False       None    1.0   \n",
       "\n",
       "   ReusedCount Serial   Longitude   Latitude  \n",
       "4            0  B0003  -80.577366  28.561857  \n",
       "5            0  B0005  -80.577366  28.561857  \n",
       "6            0  B0007  -80.577366  28.561857  \n",
       "7            0  B1003 -120.610829  34.632093  \n",
       "8            0  B1004  -80.577366  28.561857  "
      ]
     },
     "execution_count": 21,
     "metadata": {},
     "output_type": "execute_result"
    }
   ],
   "source": [
    "data_falcon9 = data[data['BoosterVersion'] != 'Falcon 1']\n",
    "data_falcon9.head()"
   ]
  },
  {
   "cell_type": "markdown",
   "id": "204e9678-337f-443f-97dc-8b5c36df3cc2",
   "metadata": {},
   "source": [
    "Now that we have removed some values we should reset the FlgihtNumber column"
   ]
  },
  {
   "cell_type": "code",
   "execution_count": 22,
   "id": "348d8c93-1a67-4a2f-b875-41e1025f5b2c",
   "metadata": {
    "tags": []
   },
   "outputs": [
    {
     "name": "stderr",
     "output_type": "stream",
     "text": [
      "/tmp/ipykernel_2227641/1224968743.py:1: SettingWithCopyWarning: \n",
      "A value is trying to be set on a copy of a slice from a DataFrame.\n",
      "Try using .loc[row_indexer,col_indexer] = value instead\n",
      "\n",
      "See the caveats in the documentation: https://pandas.pydata.org/pandas-docs/stable/user_guide/indexing.html#returning-a-view-versus-a-copy\n",
      "  data_falcon9.loc[:,'FlightNumber'] = list(range(1, data_falcon9.shape[0]+1))\n"
     ]
    },
    {
     "data": {
      "text/html": [
       "<div>\n",
       "<style scoped>\n",
       "    .dataframe tbody tr th:only-of-type {\n",
       "        vertical-align: middle;\n",
       "    }\n",
       "\n",
       "    .dataframe tbody tr th {\n",
       "        vertical-align: top;\n",
       "    }\n",
       "\n",
       "    .dataframe thead th {\n",
       "        text-align: right;\n",
       "    }\n",
       "</style>\n",
       "<table border=\"1\" class=\"dataframe\">\n",
       "  <thead>\n",
       "    <tr style=\"text-align: right;\">\n",
       "      <th></th>\n",
       "      <th>FlightNumber</th>\n",
       "      <th>Date</th>\n",
       "      <th>BoosterVersion</th>\n",
       "      <th>PayloadMass</th>\n",
       "      <th>Orbit</th>\n",
       "      <th>LaunchSite</th>\n",
       "      <th>Outcome</th>\n",
       "      <th>Flights</th>\n",
       "      <th>GridFins</th>\n",
       "      <th>Reused</th>\n",
       "      <th>Legs</th>\n",
       "      <th>LandingPad</th>\n",
       "      <th>Block</th>\n",
       "      <th>ReusedCount</th>\n",
       "      <th>Serial</th>\n",
       "      <th>Longitude</th>\n",
       "      <th>Latitude</th>\n",
       "    </tr>\n",
       "  </thead>\n",
       "  <tbody>\n",
       "    <tr>\n",
       "      <th>4</th>\n",
       "      <td>1</td>\n",
       "      <td>2010-06-04</td>\n",
       "      <td>Falcon 9</td>\n",
       "      <td>NaN</td>\n",
       "      <td>LEO</td>\n",
       "      <td>CCSFS SLC 40</td>\n",
       "      <td>None None</td>\n",
       "      <td>1</td>\n",
       "      <td>False</td>\n",
       "      <td>False</td>\n",
       "      <td>False</td>\n",
       "      <td>None</td>\n",
       "      <td>1.0</td>\n",
       "      <td>0</td>\n",
       "      <td>B0003</td>\n",
       "      <td>-80.577366</td>\n",
       "      <td>28.561857</td>\n",
       "    </tr>\n",
       "    <tr>\n",
       "      <th>5</th>\n",
       "      <td>2</td>\n",
       "      <td>2012-05-22</td>\n",
       "      <td>Falcon 9</td>\n",
       "      <td>525.0</td>\n",
       "      <td>LEO</td>\n",
       "      <td>CCSFS SLC 40</td>\n",
       "      <td>None None</td>\n",
       "      <td>1</td>\n",
       "      <td>False</td>\n",
       "      <td>False</td>\n",
       "      <td>False</td>\n",
       "      <td>None</td>\n",
       "      <td>1.0</td>\n",
       "      <td>0</td>\n",
       "      <td>B0005</td>\n",
       "      <td>-80.577366</td>\n",
       "      <td>28.561857</td>\n",
       "    </tr>\n",
       "    <tr>\n",
       "      <th>6</th>\n",
       "      <td>3</td>\n",
       "      <td>2013-03-01</td>\n",
       "      <td>Falcon 9</td>\n",
       "      <td>677.0</td>\n",
       "      <td>ISS</td>\n",
       "      <td>CCSFS SLC 40</td>\n",
       "      <td>None None</td>\n",
       "      <td>1</td>\n",
       "      <td>False</td>\n",
       "      <td>False</td>\n",
       "      <td>False</td>\n",
       "      <td>None</td>\n",
       "      <td>1.0</td>\n",
       "      <td>0</td>\n",
       "      <td>B0007</td>\n",
       "      <td>-80.577366</td>\n",
       "      <td>28.561857</td>\n",
       "    </tr>\n",
       "    <tr>\n",
       "      <th>7</th>\n",
       "      <td>4</td>\n",
       "      <td>2013-09-29</td>\n",
       "      <td>Falcon 9</td>\n",
       "      <td>500.0</td>\n",
       "      <td>PO</td>\n",
       "      <td>VAFB SLC 4E</td>\n",
       "      <td>False Ocean</td>\n",
       "      <td>1</td>\n",
       "      <td>False</td>\n",
       "      <td>False</td>\n",
       "      <td>False</td>\n",
       "      <td>None</td>\n",
       "      <td>1.0</td>\n",
       "      <td>0</td>\n",
       "      <td>B1003</td>\n",
       "      <td>-120.610829</td>\n",
       "      <td>34.632093</td>\n",
       "    </tr>\n",
       "    <tr>\n",
       "      <th>8</th>\n",
       "      <td>5</td>\n",
       "      <td>2013-12-03</td>\n",
       "      <td>Falcon 9</td>\n",
       "      <td>3170.0</td>\n",
       "      <td>GTO</td>\n",
       "      <td>CCSFS SLC 40</td>\n",
       "      <td>None None</td>\n",
       "      <td>1</td>\n",
       "      <td>False</td>\n",
       "      <td>False</td>\n",
       "      <td>False</td>\n",
       "      <td>None</td>\n",
       "      <td>1.0</td>\n",
       "      <td>0</td>\n",
       "      <td>B1004</td>\n",
       "      <td>-80.577366</td>\n",
       "      <td>28.561857</td>\n",
       "    </tr>\n",
       "  </tbody>\n",
       "</table>\n",
       "</div>"
      ],
      "text/plain": [
       "   FlightNumber        Date BoosterVersion  PayloadMass Orbit    LaunchSite  \\\n",
       "4             1  2010-06-04       Falcon 9          NaN   LEO  CCSFS SLC 40   \n",
       "5             2  2012-05-22       Falcon 9        525.0   LEO  CCSFS SLC 40   \n",
       "6             3  2013-03-01       Falcon 9        677.0   ISS  CCSFS SLC 40   \n",
       "7             4  2013-09-29       Falcon 9        500.0    PO   VAFB SLC 4E   \n",
       "8             5  2013-12-03       Falcon 9       3170.0   GTO  CCSFS SLC 40   \n",
       "\n",
       "       Outcome  Flights  GridFins  Reused   Legs LandingPad  Block  \\\n",
       "4    None None        1     False   False  False       None    1.0   \n",
       "5    None None        1     False   False  False       None    1.0   \n",
       "6    None None        1     False   False  False       None    1.0   \n",
       "7  False Ocean        1     False   False  False       None    1.0   \n",
       "8    None None        1     False   False  False       None    1.0   \n",
       "\n",
       "   ReusedCount Serial   Longitude   Latitude  \n",
       "4            0  B0003  -80.577366  28.561857  \n",
       "5            0  B0005  -80.577366  28.561857  \n",
       "6            0  B0007  -80.577366  28.561857  \n",
       "7            0  B1003 -120.610829  34.632093  \n",
       "8            0  B1004  -80.577366  28.561857  "
      ]
     },
     "execution_count": 22,
     "metadata": {},
     "output_type": "execute_result"
    }
   ],
   "source": [
    "data_falcon9.loc[:,'FlightNumber'] = list(range(1, data_falcon9.shape[0]+1))\n",
    "data_falcon9.head()"
   ]
  },
  {
   "cell_type": "markdown",
   "id": "bd20099c-ecc0-427f-b634-bb5aee364119",
   "metadata": {},
   "source": [
    "## Data Wrangling"
   ]
  },
  {
   "cell_type": "markdown",
   "id": "a2b27436-1050-44a3-89e7-14944877e1b6",
   "metadata": {},
   "source": [
    "We can see below that some of the rows are missing values in our dataset."
   ]
  },
  {
   "cell_type": "code",
   "execution_count": 23,
   "id": "c254a5c2-a5a2-4bfd-b1e1-f8d0654a3a66",
   "metadata": {
    "tags": []
   },
   "outputs": [
    {
     "data": {
      "text/plain": [
       "FlightNumber       0\n",
       "Date               0\n",
       "BoosterVersion     0\n",
       "PayloadMass        5\n",
       "Orbit              0\n",
       "LaunchSite         0\n",
       "Outcome            0\n",
       "Flights            0\n",
       "GridFins           0\n",
       "Reused             0\n",
       "Legs               0\n",
       "LandingPad        26\n",
       "Block              0\n",
       "ReusedCount        0\n",
       "Serial             0\n",
       "Longitude          0\n",
       "Latitude           0\n",
       "dtype: int64"
      ]
     },
     "execution_count": 23,
     "metadata": {},
     "output_type": "execute_result"
    }
   ],
   "source": [
    "data_falcon9.isnull().sum()"
   ]
  },
  {
   "cell_type": "markdown",
   "id": "0940d5ab-17eb-4fc5-a631-0b5942c19445",
   "metadata": {},
   "source": [
    "Before we can continue we must deal with these missing values. The <code>LandingPad</code> column will retain None values to represent when landing pads were not used."
   ]
  },
  {
   "cell_type": "markdown",
   "id": "c4d25e97-0c11-474d-8404-1694fd2c3a1a",
   "metadata": {
    "tags": []
   },
   "source": [
    "### Task 3: Dealing with Missing Values"
   ]
  },
  {
   "cell_type": "markdown",
   "id": "c5ebf1d7-effe-4b80-ae40-b47a8e428ac8",
   "metadata": {},
   "source": [
    "Calculate below the mean for the <code>PayloadMass</code> using the <code>.mean()</code>. Then use the mean and the <code>.replace()</code> function to replace `np.nan` values in the data with the mean you calculated."
   ]
  },
  {
   "cell_type": "code",
   "execution_count": 24,
   "id": "538e25d8-7561-40a0-80d7-c5fa820d9b7c",
   "metadata": {
    "tags": []
   },
   "outputs": [
    {
     "name": "stderr",
     "output_type": "stream",
     "text": [
      "/tmp/ipykernel_2227641/2360479130.py:5: SettingWithCopyWarning: \n",
      "A value is trying to be set on a copy of a slice from a DataFrame.\n",
      "Try using .loc[row_indexer,col_indexer] = value instead\n",
      "\n",
      "See the caveats in the documentation: https://pandas.pydata.org/pandas-docs/stable/user_guide/indexing.html#returning-a-view-versus-a-copy\n",
      "  data_falcon9['PayloadMass'] = data_falcon9['PayloadMass'].fillna(PayloadMass_mean)\n"
     ]
    },
    {
     "data": {
      "text/plain": [
       "FlightNumber       0\n",
       "Date               0\n",
       "BoosterVersion     0\n",
       "PayloadMass        0\n",
       "Orbit              0\n",
       "LaunchSite         0\n",
       "Outcome            0\n",
       "Flights            0\n",
       "GridFins           0\n",
       "Reused             0\n",
       "Legs               0\n",
       "LandingPad        26\n",
       "Block              0\n",
       "ReusedCount        0\n",
       "Serial             0\n",
       "Longitude          0\n",
       "Latitude           0\n",
       "dtype: int64"
      ]
     },
     "execution_count": 24,
     "metadata": {},
     "output_type": "execute_result"
    }
   ],
   "source": [
    "# Calculate the mean value of PayloadMass column\n",
    "PayloadMass_mean = data_falcon9['PayloadMass'].mean()\n",
    "\n",
    "# Replace the np.nan values with its mean value\n",
    "data_falcon9['PayloadMass'] = data_falcon9['PayloadMass'].fillna(PayloadMass_mean)\n",
    "data_falcon9.isnull().sum()"
   ]
  },
  {
   "cell_type": "markdown",
   "id": "aa6fc002-ec3c-4bbf-a965-2237dba2b6ea",
   "metadata": {
    "tags": []
   },
   "source": [
    "Now we should have no missing values in our dataset except for in <code>LandingPad</code>."
   ]
  },
  {
   "cell_type": "code",
   "execution_count": 25,
   "id": "b93230c6-9624-451c-bec2-84c0c34c7c5b",
   "metadata": {
    "tags": []
   },
   "outputs": [],
   "source": [
    "## Saving dataset\n",
    "\n",
    "data_falcon9.to_csv(\"datasets/data_api.csv\")"
   ]
  },
  {
   "cell_type": "markdown",
   "id": "cd887c0a-2798-4148-a22d-52604da7cfa9",
   "metadata": {
    "tags": []
   },
   "source": [
    "## Author"
   ]
  },
  {
   "cell_type": "markdown",
   "id": "0b562133-e068-4a83-aa4c-48f671bca990",
   "metadata": {
    "tags": []
   },
   "source": [
    "<a href=\"https://www.linkedin.com/in/arjunshankarpb/\">Arjun Shankar P B</a> has been working in the research division for a data mining company.\n"
   ]
  },
  {
   "cell_type": "code",
   "execution_count": null,
   "id": "03cd4cf6-16ca-4505-9e09-fb67b88958aa",
   "metadata": {},
   "outputs": [],
   "source": []
  }
 ],
 "metadata": {
  "kernelspec": {
   "display_name": "Python 3 (ipykernel)",
   "language": "python",
   "name": "python3"
  },
  "language_info": {
   "codemirror_mode": {
    "name": "ipython",
    "version": 3
   },
   "file_extension": ".py",
   "mimetype": "text/x-python",
   "name": "python",
   "nbconvert_exporter": "python",
   "pygments_lexer": "ipython3",
   "version": "3.8.10"
  }
 },
 "nbformat": 4,
 "nbformat_minor": 5
}
